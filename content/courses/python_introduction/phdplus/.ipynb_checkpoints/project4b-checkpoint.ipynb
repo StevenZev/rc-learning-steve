{
 "cells": [
  {
   "cell_type": "code",
   "execution_count": 3,
   "id": "ec6b8fda-1bb0-4713-b38a-29588e084f59",
   "metadata": {},
   "outputs": [],
   "source": [
    "import numpy as np\n",
    "import matplotlib.pyplot as plt\n",
    "import pandas as pd"
   ]
  },
  {
   "cell_type": "code",
   "execution_count": 4,
   "id": "b9b1259c-aa5b-4434-a904-dcb6b02e9966",
   "metadata": {},
   "outputs": [],
   "source": [
    "world_pop_data=pd.read_csv(\"world_population.csv\")"
   ]
  },
  {
   "cell_type": "code",
   "execution_count": 5,
   "id": "35762487-15c9-432a-adc3-3e4f8553842f",
   "metadata": {},
   "outputs": [],
   "source": [
    "pop_years=world_pop_data.iloc[:,5:13]"
   ]
  },
  {
   "cell_type": "code",
   "execution_count": 6,
   "id": "d2cf29ee-9077-40b0-9b45-f536a90812fa",
   "metadata": {},
   "outputs": [],
   "source": [
    "pop_years=pop_years.iloc[:,::-1]"
   ]
  },
  {
   "cell_type": "raw",
   "id": "f1c778de-8396-45f9-ad36-038e1b0b16d2",
   "metadata": {},
   "source": []
  },
  {
   "cell_type": "code",
   "execution_count": 7,
   "id": "d0d9c7c5-ad20-4588-bbeb-ffd6fabd6902",
   "metadata": {},
   "outputs": [],
   "source": [
    "country_data=world_pop_data.iloc[:,0:5]"
   ]
  },
  {
   "cell_type": "code",
   "execution_count": 8,
   "id": "fa5cd072-6d63-4658-8f7b-fbba123cca20",
   "metadata": {},
   "outputs": [],
   "source": [
    "pop_data=pd.concat([country_data,pop_years],axis=1)\n"
   ]
  },
  {
   "cell_type": "code",
   "execution_count": 9,
   "id": "4746aebf-cb8d-404a-9a09-781b996f2cab",
   "metadata": {},
   "outputs": [],
   "source": [
    "pop_data.rename(columns={'1970 Population':'1970','1980 Population':'1980','1990 Population':'1990','2000 Population':'2000','2010 Population':'2010','2015 Population':'2015','2020 Population':'2020','2022 Population':'2022'},inplace=True)"
   ]
  },
  {
   "cell_type": "code",
   "execution_count": null,
   "id": "70ef1dbc-d7e5-452e-9bb6-8466846aa280",
   "metadata": {},
   "outputs": [],
   "source": []
  },
  {
   "cell_type": "code",
   "execution_count": 10,
   "id": "0bbf0b8a-9c2d-43df-bff2-b8c761137078",
   "metadata": {},
   "outputs": [],
   "source": [
    "year_list=pop_data.columns[5:].tolist()"
   ]
  },
  {
   "cell_type": "code",
   "execution_count": 11,
   "id": "32d6c386-f70f-4fe9-a6e9-a317c8d6ea1b",
   "metadata": {},
   "outputs": [],
   "source": [
    "years=[]\n",
    "for y in year_list:\n",
    "    years.append(int(y.split()[0]))\n",
    "years=np.array(years)"
   ]
  },
  {
   "cell_type": "code",
   "execution_count": 12,
   "id": "fc2624a1-7b38-43df-8e85-a9670ba406fc",
   "metadata": {},
   "outputs": [],
   "source": [
    "top_ten=pop_data.sort_values(by=\"Rank\").iloc[0:11]"
   ]
  },
  {
   "cell_type": "code",
   "execution_count": 13,
   "id": "b7728210-5111-4458-9b4f-72420de854ec",
   "metadata": {},
   "outputs": [
    {
     "data": {
      "text/html": [
       "<div>\n",
       "<style scoped>\n",
       "    .dataframe tbody tr th:only-of-type {\n",
       "        vertical-align: middle;\n",
       "    }\n",
       "\n",
       "    .dataframe tbody tr th {\n",
       "        vertical-align: top;\n",
       "    }\n",
       "\n",
       "    .dataframe thead th {\n",
       "        text-align: right;\n",
       "    }\n",
       "</style>\n",
       "<table border=\"1\" class=\"dataframe\">\n",
       "  <thead>\n",
       "    <tr style=\"text-align: right;\">\n",
       "      <th></th>\n",
       "      <th>Rank</th>\n",
       "      <th>CCA3</th>\n",
       "      <th>Country</th>\n",
       "      <th>Capital</th>\n",
       "      <th>Continent</th>\n",
       "      <th>1970</th>\n",
       "      <th>1980</th>\n",
       "      <th>1990</th>\n",
       "      <th>2000</th>\n",
       "      <th>2010</th>\n",
       "      <th>2015</th>\n",
       "      <th>2020</th>\n",
       "      <th>2022</th>\n",
       "    </tr>\n",
       "  </thead>\n",
       "  <tbody>\n",
       "    <tr>\n",
       "      <th>41</th>\n",
       "      <td>1</td>\n",
       "      <td>CHN</td>\n",
       "      <td>China</td>\n",
       "      <td>Beijing</td>\n",
       "      <td>Asia</td>\n",
       "      <td>822534450</td>\n",
       "      <td>982372466</td>\n",
       "      <td>1153704252</td>\n",
       "      <td>1264099069</td>\n",
       "      <td>1348191368</td>\n",
       "      <td>1393715448</td>\n",
       "      <td>1424929781</td>\n",
       "      <td>1425887337</td>\n",
       "    </tr>\n",
       "    <tr>\n",
       "      <th>92</th>\n",
       "      <td>2</td>\n",
       "      <td>IND</td>\n",
       "      <td>India</td>\n",
       "      <td>New Delhi</td>\n",
       "      <td>Asia</td>\n",
       "      <td>557501301</td>\n",
       "      <td>696828385</td>\n",
       "      <td>870452165</td>\n",
       "      <td>1059633675</td>\n",
       "      <td>1240613620</td>\n",
       "      <td>1322866505</td>\n",
       "      <td>1396387127</td>\n",
       "      <td>1417173173</td>\n",
       "    </tr>\n",
       "    <tr>\n",
       "      <th>221</th>\n",
       "      <td>3</td>\n",
       "      <td>USA</td>\n",
       "      <td>United States</td>\n",
       "      <td>Washington D.C.</td>\n",
       "      <td>North America</td>\n",
       "      <td>200328340</td>\n",
       "      <td>223140018</td>\n",
       "      <td>248083732</td>\n",
       "      <td>282398554</td>\n",
       "      <td>311182845</td>\n",
       "      <td>324607776</td>\n",
       "      <td>335942003</td>\n",
       "      <td>338289857</td>\n",
       "    </tr>\n",
       "    <tr>\n",
       "      <th>93</th>\n",
       "      <td>4</td>\n",
       "      <td>IDN</td>\n",
       "      <td>Indonesia</td>\n",
       "      <td>Jakarta</td>\n",
       "      <td>Asia</td>\n",
       "      <td>115228394</td>\n",
       "      <td>148177096</td>\n",
       "      <td>182159874</td>\n",
       "      <td>214072421</td>\n",
       "      <td>244016173</td>\n",
       "      <td>259091970</td>\n",
       "      <td>271857970</td>\n",
       "      <td>275501339</td>\n",
       "    </tr>\n",
       "    <tr>\n",
       "      <th>156</th>\n",
       "      <td>5</td>\n",
       "      <td>PAK</td>\n",
       "      <td>Pakistan</td>\n",
       "      <td>Islamabad</td>\n",
       "      <td>Asia</td>\n",
       "      <td>59290872</td>\n",
       "      <td>80624057</td>\n",
       "      <td>115414069</td>\n",
       "      <td>154369924</td>\n",
       "      <td>194454498</td>\n",
       "      <td>210969298</td>\n",
       "      <td>227196741</td>\n",
       "      <td>235824862</td>\n",
       "    </tr>\n",
       "    <tr>\n",
       "      <th>149</th>\n",
       "      <td>6</td>\n",
       "      <td>NGA</td>\n",
       "      <td>Nigeria</td>\n",
       "      <td>Abuja</td>\n",
       "      <td>Africa</td>\n",
       "      <td>55569264</td>\n",
       "      <td>72951439</td>\n",
       "      <td>95214257</td>\n",
       "      <td>122851984</td>\n",
       "      <td>160952853</td>\n",
       "      <td>183995785</td>\n",
       "      <td>208327405</td>\n",
       "      <td>218541212</td>\n",
       "    </tr>\n",
       "    <tr>\n",
       "      <th>27</th>\n",
       "      <td>7</td>\n",
       "      <td>BRA</td>\n",
       "      <td>Brazil</td>\n",
       "      <td>Brasilia</td>\n",
       "      <td>South America</td>\n",
       "      <td>96369875</td>\n",
       "      <td>122288383</td>\n",
       "      <td>150706446</td>\n",
       "      <td>175873720</td>\n",
       "      <td>196353492</td>\n",
       "      <td>205188205</td>\n",
       "      <td>213196304</td>\n",
       "      <td>215313498</td>\n",
       "    </tr>\n",
       "    <tr>\n",
       "      <th>16</th>\n",
       "      <td>8</td>\n",
       "      <td>BGD</td>\n",
       "      <td>Bangladesh</td>\n",
       "      <td>Dhaka</td>\n",
       "      <td>Asia</td>\n",
       "      <td>67541860</td>\n",
       "      <td>83929765</td>\n",
       "      <td>107147651</td>\n",
       "      <td>129193327</td>\n",
       "      <td>148391139</td>\n",
       "      <td>157830000</td>\n",
       "      <td>167420951</td>\n",
       "      <td>171186372</td>\n",
       "    </tr>\n",
       "    <tr>\n",
       "      <th>171</th>\n",
       "      <td>9</td>\n",
       "      <td>RUS</td>\n",
       "      <td>Russia</td>\n",
       "      <td>Moscow</td>\n",
       "      <td>Europe</td>\n",
       "      <td>130093010</td>\n",
       "      <td>138257420</td>\n",
       "      <td>148005704</td>\n",
       "      <td>146844839</td>\n",
       "      <td>143242599</td>\n",
       "      <td>144668389</td>\n",
       "      <td>145617329</td>\n",
       "      <td>144713314</td>\n",
       "    </tr>\n",
       "    <tr>\n",
       "      <th>131</th>\n",
       "      <td>10</td>\n",
       "      <td>MEX</td>\n",
       "      <td>Mexico</td>\n",
       "      <td>Mexico City</td>\n",
       "      <td>North America</td>\n",
       "      <td>50289306</td>\n",
       "      <td>67705186</td>\n",
       "      <td>81720428</td>\n",
       "      <td>97873442</td>\n",
       "      <td>112532401</td>\n",
       "      <td>120149897</td>\n",
       "      <td>125998302</td>\n",
       "      <td>127504125</td>\n",
       "    </tr>\n",
       "    <tr>\n",
       "      <th>102</th>\n",
       "      <td>11</td>\n",
       "      <td>JPN</td>\n",
       "      <td>Japan</td>\n",
       "      <td>Tokyo</td>\n",
       "      <td>Asia</td>\n",
       "      <td>105416839</td>\n",
       "      <td>117624196</td>\n",
       "      <td>123686321</td>\n",
       "      <td>126803861</td>\n",
       "      <td>128105431</td>\n",
       "      <td>127250933</td>\n",
       "      <td>125244761</td>\n",
       "      <td>123951692</td>\n",
       "    </tr>\n",
       "  </tbody>\n",
       "</table>\n",
       "</div>"
      ],
      "text/plain": [
       "     Rank CCA3        Country          Capital      Continent       1970  \\\n",
       "41      1  CHN          China          Beijing           Asia  822534450   \n",
       "92      2  IND          India        New Delhi           Asia  557501301   \n",
       "221     3  USA  United States  Washington D.C.  North America  200328340   \n",
       "93      4  IDN      Indonesia          Jakarta           Asia  115228394   \n",
       "156     5  PAK       Pakistan        Islamabad           Asia   59290872   \n",
       "149     6  NGA        Nigeria            Abuja         Africa   55569264   \n",
       "27      7  BRA         Brazil         Brasilia  South America   96369875   \n",
       "16      8  BGD     Bangladesh            Dhaka           Asia   67541860   \n",
       "171     9  RUS         Russia           Moscow         Europe  130093010   \n",
       "131    10  MEX         Mexico      Mexico City  North America   50289306   \n",
       "102    11  JPN          Japan            Tokyo           Asia  105416839   \n",
       "\n",
       "          1980        1990        2000        2010        2015        2020  \\\n",
       "41   982372466  1153704252  1264099069  1348191368  1393715448  1424929781   \n",
       "92   696828385   870452165  1059633675  1240613620  1322866505  1396387127   \n",
       "221  223140018   248083732   282398554   311182845   324607776   335942003   \n",
       "93   148177096   182159874   214072421   244016173   259091970   271857970   \n",
       "156   80624057   115414069   154369924   194454498   210969298   227196741   \n",
       "149   72951439    95214257   122851984   160952853   183995785   208327405   \n",
       "27   122288383   150706446   175873720   196353492   205188205   213196304   \n",
       "16    83929765   107147651   129193327   148391139   157830000   167420951   \n",
       "171  138257420   148005704   146844839   143242599   144668389   145617329   \n",
       "131   67705186    81720428    97873442   112532401   120149897   125998302   \n",
       "102  117624196   123686321   126803861   128105431   127250933   125244761   \n",
       "\n",
       "           2022  \n",
       "41   1425887337  \n",
       "92   1417173173  \n",
       "221   338289857  \n",
       "93    275501339  \n",
       "156   235824862  \n",
       "149   218541212  \n",
       "27    215313498  \n",
       "16    171186372  \n",
       "171   144713314  \n",
       "131   127504125  \n",
       "102   123951692  "
      ]
     },
     "execution_count": 13,
     "metadata": {},
     "output_type": "execute_result"
    }
   ],
   "source": [
    "top_ten"
   ]
  },
  {
   "cell_type": "code",
   "execution_count": 14,
   "id": "cd80e56c-92b4-408d-b052-216b31d44c16",
   "metadata": {},
   "outputs": [],
   "source": [
    "labels=top_ten.loc[:,'Country'].tolist()"
   ]
  },
  {
   "cell_type": "code",
   "execution_count": 15,
   "id": "8da0fc73-ce84-45a9-8c95-aa3f4da9fa9e",
   "metadata": {},
   "outputs": [
    {
     "data": {
      "text/plain": [
       "list"
      ]
     },
     "execution_count": 15,
     "metadata": {},
     "output_type": "execute_result"
    }
   ],
   "source": [
    "type(labels)"
   ]
  },
  {
   "cell_type": "code",
   "execution_count": 16,
   "id": "50a629a4-7a15-4195-951c-d95489b34810",
   "metadata": {},
   "outputs": [
    {
     "data": {
      "text/plain": [
       "['China',\n",
       " 'India',\n",
       " 'United States',\n",
       " 'Indonesia',\n",
       " 'Pakistan',\n",
       " 'Nigeria',\n",
       " 'Brazil',\n",
       " 'Bangladesh',\n",
       " 'Russia',\n",
       " 'Mexico',\n",
       " 'Japan']"
      ]
     },
     "execution_count": 16,
     "metadata": {},
     "output_type": "execute_result"
    }
   ],
   "source": [
    "labels"
   ]
  },
  {
   "cell_type": "code",
   "execution_count": 17,
   "id": "441d338e-2682-45f3-a085-08e2dc62146f",
   "metadata": {},
   "outputs": [],
   "source": [
    "pop_years=top_ten.drop(labels=['Rank','CCA3','Country','Capital','Continent'],axis=1)"
   ]
  },
  {
   "cell_type": "code",
   "execution_count": 18,
   "id": "31aa6e52-b20f-4325-821e-a161beb70e26",
   "metadata": {},
   "outputs": [],
   "source": [
    "pop_years_inv=pop_years.T"
   ]
  },
  {
   "cell_type": "code",
   "execution_count": 19,
   "id": "45767432-7c3f-4a05-913c-ebfaf5f9bd60",
   "metadata": {},
   "outputs": [
    {
     "data": {
      "text/html": [
       "<div>\n",
       "<style scoped>\n",
       "    .dataframe tbody tr th:only-of-type {\n",
       "        vertical-align: middle;\n",
       "    }\n",
       "\n",
       "    .dataframe tbody tr th {\n",
       "        vertical-align: top;\n",
       "    }\n",
       "\n",
       "    .dataframe thead th {\n",
       "        text-align: right;\n",
       "    }\n",
       "</style>\n",
       "<table border=\"1\" class=\"dataframe\">\n",
       "  <thead>\n",
       "    <tr style=\"text-align: right;\">\n",
       "      <th></th>\n",
       "      <th>41</th>\n",
       "      <th>92</th>\n",
       "      <th>221</th>\n",
       "      <th>93</th>\n",
       "      <th>156</th>\n",
       "      <th>149</th>\n",
       "      <th>27</th>\n",
       "      <th>16</th>\n",
       "      <th>171</th>\n",
       "      <th>131</th>\n",
       "      <th>102</th>\n",
       "    </tr>\n",
       "  </thead>\n",
       "  <tbody>\n",
       "    <tr>\n",
       "      <th>1970</th>\n",
       "      <td>822534450</td>\n",
       "      <td>557501301</td>\n",
       "      <td>200328340</td>\n",
       "      <td>115228394</td>\n",
       "      <td>59290872</td>\n",
       "      <td>55569264</td>\n",
       "      <td>96369875</td>\n",
       "      <td>67541860</td>\n",
       "      <td>130093010</td>\n",
       "      <td>50289306</td>\n",
       "      <td>105416839</td>\n",
       "    </tr>\n",
       "    <tr>\n",
       "      <th>1980</th>\n",
       "      <td>982372466</td>\n",
       "      <td>696828385</td>\n",
       "      <td>223140018</td>\n",
       "      <td>148177096</td>\n",
       "      <td>80624057</td>\n",
       "      <td>72951439</td>\n",
       "      <td>122288383</td>\n",
       "      <td>83929765</td>\n",
       "      <td>138257420</td>\n",
       "      <td>67705186</td>\n",
       "      <td>117624196</td>\n",
       "    </tr>\n",
       "    <tr>\n",
       "      <th>1990</th>\n",
       "      <td>1153704252</td>\n",
       "      <td>870452165</td>\n",
       "      <td>248083732</td>\n",
       "      <td>182159874</td>\n",
       "      <td>115414069</td>\n",
       "      <td>95214257</td>\n",
       "      <td>150706446</td>\n",
       "      <td>107147651</td>\n",
       "      <td>148005704</td>\n",
       "      <td>81720428</td>\n",
       "      <td>123686321</td>\n",
       "    </tr>\n",
       "    <tr>\n",
       "      <th>2000</th>\n",
       "      <td>1264099069</td>\n",
       "      <td>1059633675</td>\n",
       "      <td>282398554</td>\n",
       "      <td>214072421</td>\n",
       "      <td>154369924</td>\n",
       "      <td>122851984</td>\n",
       "      <td>175873720</td>\n",
       "      <td>129193327</td>\n",
       "      <td>146844839</td>\n",
       "      <td>97873442</td>\n",
       "      <td>126803861</td>\n",
       "    </tr>\n",
       "    <tr>\n",
       "      <th>2010</th>\n",
       "      <td>1348191368</td>\n",
       "      <td>1240613620</td>\n",
       "      <td>311182845</td>\n",
       "      <td>244016173</td>\n",
       "      <td>194454498</td>\n",
       "      <td>160952853</td>\n",
       "      <td>196353492</td>\n",
       "      <td>148391139</td>\n",
       "      <td>143242599</td>\n",
       "      <td>112532401</td>\n",
       "      <td>128105431</td>\n",
       "    </tr>\n",
       "    <tr>\n",
       "      <th>2015</th>\n",
       "      <td>1393715448</td>\n",
       "      <td>1322866505</td>\n",
       "      <td>324607776</td>\n",
       "      <td>259091970</td>\n",
       "      <td>210969298</td>\n",
       "      <td>183995785</td>\n",
       "      <td>205188205</td>\n",
       "      <td>157830000</td>\n",
       "      <td>144668389</td>\n",
       "      <td>120149897</td>\n",
       "      <td>127250933</td>\n",
       "    </tr>\n",
       "    <tr>\n",
       "      <th>2020</th>\n",
       "      <td>1424929781</td>\n",
       "      <td>1396387127</td>\n",
       "      <td>335942003</td>\n",
       "      <td>271857970</td>\n",
       "      <td>227196741</td>\n",
       "      <td>208327405</td>\n",
       "      <td>213196304</td>\n",
       "      <td>167420951</td>\n",
       "      <td>145617329</td>\n",
       "      <td>125998302</td>\n",
       "      <td>125244761</td>\n",
       "    </tr>\n",
       "    <tr>\n",
       "      <th>2022</th>\n",
       "      <td>1425887337</td>\n",
       "      <td>1417173173</td>\n",
       "      <td>338289857</td>\n",
       "      <td>275501339</td>\n",
       "      <td>235824862</td>\n",
       "      <td>218541212</td>\n",
       "      <td>215313498</td>\n",
       "      <td>171186372</td>\n",
       "      <td>144713314</td>\n",
       "      <td>127504125</td>\n",
       "      <td>123951692</td>\n",
       "    </tr>\n",
       "  </tbody>\n",
       "</table>\n",
       "</div>"
      ],
      "text/plain": [
       "             41          92         221        93         156        149  \\\n",
       "1970   822534450   557501301  200328340  115228394   59290872   55569264   \n",
       "1980   982372466   696828385  223140018  148177096   80624057   72951439   \n",
       "1990  1153704252   870452165  248083732  182159874  115414069   95214257   \n",
       "2000  1264099069  1059633675  282398554  214072421  154369924  122851984   \n",
       "2010  1348191368  1240613620  311182845  244016173  194454498  160952853   \n",
       "2015  1393715448  1322866505  324607776  259091970  210969298  183995785   \n",
       "2020  1424929781  1396387127  335942003  271857970  227196741  208327405   \n",
       "2022  1425887337  1417173173  338289857  275501339  235824862  218541212   \n",
       "\n",
       "            27         16         171        131        102  \n",
       "1970   96369875   67541860  130093010   50289306  105416839  \n",
       "1980  122288383   83929765  138257420   67705186  117624196  \n",
       "1990  150706446  107147651  148005704   81720428  123686321  \n",
       "2000  175873720  129193327  146844839   97873442  126803861  \n",
       "2010  196353492  148391139  143242599  112532401  128105431  \n",
       "2015  205188205  157830000  144668389  120149897  127250933  \n",
       "2020  213196304  167420951  145617329  125998302  125244761  \n",
       "2022  215313498  171186372  144713314  127504125  123951692  "
      ]
     },
     "execution_count": 19,
     "metadata": {},
     "output_type": "execute_result"
    }
   ],
   "source": [
    "pop_years_inv"
   ]
  },
  {
   "cell_type": "code",
   "execution_count": 20,
   "id": "55104380-f781-4edd-a953-8b1d49d7dcd9",
   "metadata": {},
   "outputs": [],
   "source": [
    "pop_years_inv.columns=labels"
   ]
  },
  {
   "cell_type": "code",
   "execution_count": 21,
   "id": "e4166443-efd4-492f-b8c1-c6a475e659fc",
   "metadata": {},
   "outputs": [
    {
     "data": {
      "text/html": [
       "<div>\n",
       "<style scoped>\n",
       "    .dataframe tbody tr th:only-of-type {\n",
       "        vertical-align: middle;\n",
       "    }\n",
       "\n",
       "    .dataframe tbody tr th {\n",
       "        vertical-align: top;\n",
       "    }\n",
       "\n",
       "    .dataframe thead th {\n",
       "        text-align: right;\n",
       "    }\n",
       "</style>\n",
       "<table border=\"1\" class=\"dataframe\">\n",
       "  <thead>\n",
       "    <tr style=\"text-align: right;\">\n",
       "      <th></th>\n",
       "      <th>China</th>\n",
       "      <th>India</th>\n",
       "      <th>United States</th>\n",
       "      <th>Indonesia</th>\n",
       "      <th>Pakistan</th>\n",
       "      <th>Nigeria</th>\n",
       "      <th>Brazil</th>\n",
       "      <th>Bangladesh</th>\n",
       "      <th>Russia</th>\n",
       "      <th>Mexico</th>\n",
       "      <th>Japan</th>\n",
       "    </tr>\n",
       "  </thead>\n",
       "  <tbody>\n",
       "    <tr>\n",
       "      <th>1970</th>\n",
       "      <td>822534450</td>\n",
       "      <td>557501301</td>\n",
       "      <td>200328340</td>\n",
       "      <td>115228394</td>\n",
       "      <td>59290872</td>\n",
       "      <td>55569264</td>\n",
       "      <td>96369875</td>\n",
       "      <td>67541860</td>\n",
       "      <td>130093010</td>\n",
       "      <td>50289306</td>\n",
       "      <td>105416839</td>\n",
       "    </tr>\n",
       "    <tr>\n",
       "      <th>1980</th>\n",
       "      <td>982372466</td>\n",
       "      <td>696828385</td>\n",
       "      <td>223140018</td>\n",
       "      <td>148177096</td>\n",
       "      <td>80624057</td>\n",
       "      <td>72951439</td>\n",
       "      <td>122288383</td>\n",
       "      <td>83929765</td>\n",
       "      <td>138257420</td>\n",
       "      <td>67705186</td>\n",
       "      <td>117624196</td>\n",
       "    </tr>\n",
       "    <tr>\n",
       "      <th>1990</th>\n",
       "      <td>1153704252</td>\n",
       "      <td>870452165</td>\n",
       "      <td>248083732</td>\n",
       "      <td>182159874</td>\n",
       "      <td>115414069</td>\n",
       "      <td>95214257</td>\n",
       "      <td>150706446</td>\n",
       "      <td>107147651</td>\n",
       "      <td>148005704</td>\n",
       "      <td>81720428</td>\n",
       "      <td>123686321</td>\n",
       "    </tr>\n",
       "    <tr>\n",
       "      <th>2000</th>\n",
       "      <td>1264099069</td>\n",
       "      <td>1059633675</td>\n",
       "      <td>282398554</td>\n",
       "      <td>214072421</td>\n",
       "      <td>154369924</td>\n",
       "      <td>122851984</td>\n",
       "      <td>175873720</td>\n",
       "      <td>129193327</td>\n",
       "      <td>146844839</td>\n",
       "      <td>97873442</td>\n",
       "      <td>126803861</td>\n",
       "    </tr>\n",
       "    <tr>\n",
       "      <th>2010</th>\n",
       "      <td>1348191368</td>\n",
       "      <td>1240613620</td>\n",
       "      <td>311182845</td>\n",
       "      <td>244016173</td>\n",
       "      <td>194454498</td>\n",
       "      <td>160952853</td>\n",
       "      <td>196353492</td>\n",
       "      <td>148391139</td>\n",
       "      <td>143242599</td>\n",
       "      <td>112532401</td>\n",
       "      <td>128105431</td>\n",
       "    </tr>\n",
       "    <tr>\n",
       "      <th>2015</th>\n",
       "      <td>1393715448</td>\n",
       "      <td>1322866505</td>\n",
       "      <td>324607776</td>\n",
       "      <td>259091970</td>\n",
       "      <td>210969298</td>\n",
       "      <td>183995785</td>\n",
       "      <td>205188205</td>\n",
       "      <td>157830000</td>\n",
       "      <td>144668389</td>\n",
       "      <td>120149897</td>\n",
       "      <td>127250933</td>\n",
       "    </tr>\n",
       "    <tr>\n",
       "      <th>2020</th>\n",
       "      <td>1424929781</td>\n",
       "      <td>1396387127</td>\n",
       "      <td>335942003</td>\n",
       "      <td>271857970</td>\n",
       "      <td>227196741</td>\n",
       "      <td>208327405</td>\n",
       "      <td>213196304</td>\n",
       "      <td>167420951</td>\n",
       "      <td>145617329</td>\n",
       "      <td>125998302</td>\n",
       "      <td>125244761</td>\n",
       "    </tr>\n",
       "    <tr>\n",
       "      <th>2022</th>\n",
       "      <td>1425887337</td>\n",
       "      <td>1417173173</td>\n",
       "      <td>338289857</td>\n",
       "      <td>275501339</td>\n",
       "      <td>235824862</td>\n",
       "      <td>218541212</td>\n",
       "      <td>215313498</td>\n",
       "      <td>171186372</td>\n",
       "      <td>144713314</td>\n",
       "      <td>127504125</td>\n",
       "      <td>123951692</td>\n",
       "    </tr>\n",
       "  </tbody>\n",
       "</table>\n",
       "</div>"
      ],
      "text/plain": [
       "           China       India  United States  Indonesia   Pakistan    Nigeria  \\\n",
       "1970   822534450   557501301      200328340  115228394   59290872   55569264   \n",
       "1980   982372466   696828385      223140018  148177096   80624057   72951439   \n",
       "1990  1153704252   870452165      248083732  182159874  115414069   95214257   \n",
       "2000  1264099069  1059633675      282398554  214072421  154369924  122851984   \n",
       "2010  1348191368  1240613620      311182845  244016173  194454498  160952853   \n",
       "2015  1393715448  1322866505      324607776  259091970  210969298  183995785   \n",
       "2020  1424929781  1396387127      335942003  271857970  227196741  208327405   \n",
       "2022  1425887337  1417173173      338289857  275501339  235824862  218541212   \n",
       "\n",
       "         Brazil  Bangladesh     Russia     Mexico      Japan  \n",
       "1970   96369875    67541860  130093010   50289306  105416839  \n",
       "1980  122288383    83929765  138257420   67705186  117624196  \n",
       "1990  150706446   107147651  148005704   81720428  123686321  \n",
       "2000  175873720   129193327  146844839   97873442  126803861  \n",
       "2010  196353492   148391139  143242599  112532401  128105431  \n",
       "2015  205188205   157830000  144668389  120149897  127250933  \n",
       "2020  213196304   167420951  145617329  125998302  125244761  \n",
       "2022  215313498   171186372  144713314  127504125  123951692  "
      ]
     },
     "execution_count": 21,
     "metadata": {},
     "output_type": "execute_result"
    }
   ],
   "source": [
    "pop_years_inv"
   ]
  },
  {
   "cell_type": "code",
   "execution_count": 22,
   "id": "d8251748-1cba-474c-a05d-c0d8758aaf75",
   "metadata": {},
   "outputs": [
    {
     "data": {
      "text/plain": [
       "<matplotlib.legend.Legend at 0x7efe1bd17490>"
      ]
     },
     "execution_count": 22,
     "metadata": {},
     "output_type": "execute_result"
    },
    {
     "data": {
      "image/png": "[encoded data removed]",
      "text/plain": [
       "<Figure size 432x288 with 1 Axes>"
      ]
     },
     "metadata": {
      "needs_background": "light"
     },
     "output_type": "display_data"
    }
   ],
   "source": [
    "pop_years_inv.plot(kind='line',title='Population Trend for Top Ten Countries').legend(bbox_to_anchor=(1.4,1.))"
   ]
  },
  {
   "cell_type": "code",
   "execution_count": 23,
   "id": "64687197-60e7-4cff-83a8-776fa0216018",
   "metadata": {},
   "outputs": [],
   "source": [
    "populations=pop_years.values"
   ]
  },
  {
   "cell_type": "code",
   "execution_count": 24,
   "id": "a9faadc0-caf1-44f0-b755-0eb0646729c0",
   "metadata": {},
   "outputs": [
    {
     "data": {
      "text/plain": [
       "array([[ 822534450,  982372466, 1153704252, 1264099069, 1348191368,\n",
       "        1393715448, 1424929781, 1425887337],\n",
       "       [ 557501301,  696828385,  870452165, 1059633675, 1240613620,\n",
       "        1322866505, 1396387127, 1417173173],\n",
       "       [ 200328340,  223140018,  248083732,  282398554,  311182845,\n",
       "         324607776,  335942003,  338289857],\n",
       "       [ 115228394,  148177096,  182159874,  214072421,  244016173,\n",
       "         259091970,  271857970,  275501339],\n",
       "       [  59290872,   80624057,  115414069,  154369924,  194454498,\n",
       "         210969298,  227196741,  235824862],\n",
       "       [  55569264,   72951439,   95214257,  122851984,  160952853,\n",
       "         183995785,  208327405,  218541212],\n",
       "       [  96369875,  122288383,  150706446,  175873720,  196353492,\n",
       "         205188205,  213196304,  215313498],\n",
       "       [  67541860,   83929765,  107147651,  129193327,  148391139,\n",
       "         157830000,  167420951,  171186372],\n",
       "       [ 130093010,  138257420,  148005704,  146844839,  143242599,\n",
       "         144668389,  145617329,  144713314],\n",
       "       [  50289306,   67705186,   81720428,   97873442,  112532401,\n",
       "         120149897,  125998302,  127504125],\n",
       "       [ 105416839,  117624196,  123686321,  126803861,  128105431,\n",
       "         127250933,  125244761,  123951692]])"
      ]
     },
     "execution_count": 24,
     "metadata": {},
     "output_type": "execute_result"
    }
   ],
   "source": [
    "populations"
   ]
  },
  {
   "cell_type": "code",
   "execution_count": 25,
   "id": "9d456e9b-b149-42b1-83c0-2e20d6fe06a2",
   "metadata": {},
   "outputs": [
    {
     "data": {
      "text/plain": [
       "numpy.ndarray"
      ]
     },
     "execution_count": 25,
     "metadata": {},
     "output_type": "execute_result"
    }
   ],
   "source": [
    "type(populations)"
   ]
  },
  {
   "cell_type": "code",
   "execution_count": 26,
   "id": "e4ac8c25-8728-4477-83e2-efc117f229fb",
   "metadata": {},
   "outputs": [],
   "source": [
    "pop_change=populations[:,1:]-populations[:,0:-1]"
   ]
  },
  {
   "cell_type": "code",
   "execution_count": 27,
   "id": "053a415c-cc35-4254-9de0-3c42581c54d6",
   "metadata": {},
   "outputs": [],
   "source": [
    "year_interval=years[1:]-years[0:-1]"
   ]
  },
  {
   "cell_type": "code",
   "execution_count": 28,
   "id": "7e0a6607-400b-4b19-84cb-137816ad22be",
   "metadata": {},
   "outputs": [],
   "source": [
    "pop_rate_change=pop_change/year_interval"
   ]
  },
  {
   "cell_type": "code",
   "execution_count": 29,
   "id": "f46eedd6-4e2d-4c7f-9c5b-7142625b6875",
   "metadata": {},
   "outputs": [
    {
     "data": {
      "text/plain": [
       "numpy.ndarray"
      ]
     },
     "execution_count": 29,
     "metadata": {},
     "output_type": "execute_result"
    }
   ],
   "source": [
    "type(pop_rate_change)"
   ]
  },
  {
   "cell_type": "code",
   "execution_count": 30,
   "id": "a8d7bae6-9be9-425e-b77c-2e2d69ddf055",
   "metadata": {},
   "outputs": [
    {
     "data": {
      "text/plain": [
       "array([[15983801.6, 17133178.6, 11039481.7,  8409229.9,  9104816. ,\n",
       "         6242866.6,   478778. ],\n",
       "       [13932708.4, 17362378. , 18918151. , 18097994.5, 16450577. ,\n",
       "        14704124.4, 10393023. ],\n",
       "       [ 2281167.8,  2494371.4,  3431482.2,  2878429.1,  2684986.2,\n",
       "         2266845.4,  1173927. ],\n",
       "       [ 3294870.2,  3398277.8,  3191254.7,  2994375.2,  3015159.4,\n",
       "         2553200. ,  1821684.5],\n",
       "       [ 2133318.5,  3479001.2,  3895585.5,  4008457.4,  3302960. ,\n",
       "         3245488.6,  4314060.5],\n",
       "       [ 1738217.5,  2226281.8,  2763772.7,  3810086.9,  4608586.4,\n",
       "         4866324. ,  5106903.5],\n",
       "       [ 2591850.8,  2841806.3,  2516727.4,  2047977.2,  1766942.6,\n",
       "         1601619.8,  1058597. ],\n",
       "       [ 1638790.5,  2321788.6,  2204567.6,  1919781.2,  1887772.2,\n",
       "         1918190.2,  1882710.5],\n",
       "       [  816441. ,   974828.4,  -116086.5,  -360224. ,   285158. ,\n",
       "          189788. ,  -452007.5],\n",
       "       [ 1741588. ,  1401524.2,  1615301.4,  1465895.9,  1523499.2,\n",
       "         1169681. ,   752911.5],\n",
       "       [ 1220735.7,   606212.5,   311754. ,   130157. ,  -170899.6,\n",
       "         -401234.4,  -646534.5]])"
      ]
     },
     "execution_count": 30,
     "metadata": {},
     "output_type": "execute_result"
    }
   ],
   "source": [
    "pop_rate_change"
   ]
  },
  {
   "cell_type": "code",
   "execution_count": 32,
   "id": "23eefcd0-aee8-4bf0-a4e2-ea26c698a58e",
   "metadata": {},
   "outputs": [
    {
     "data": {
      "text/plain": [
       "(11, 7)"
      ]
     },
     "execution_count": 32,
     "metadata": {},
     "output_type": "execute_result"
    }
   ],
   "source": [
    "pop_rate_change.shape"
   ]
  },
  {
   "cell_type": "code",
   "execution_count": 33,
   "id": "c766f17e-cf89-481c-8ea2-1b9d1b7fde66",
   "metadata": {},
   "outputs": [
    {
     "data": {
      "text/plain": [
       "(7,)"
      ]
     },
     "execution_count": 33,
     "metadata": {},
     "output_type": "execute_result"
    }
   ],
   "source": [
    "year_interval.shape"
   ]
  },
  {
   "cell_type": "code",
   "execution_count": 36,
   "id": "cf80db57-1a45-4af4-aa42-e7692b0d7285",
   "metadata": {},
   "outputs": [
    {
     "data": {
      "text/plain": [
       "11"
      ]
     },
     "execution_count": 36,
     "metadata": {},
     "output_type": "execute_result"
    }
   ],
   "source": [
    "len(labels)"
   ]
  },
  {
   "cell_type": "code",
   "execution_count": 39,
   "id": "93481ab0-2696-47d7-b591-de4ec6bf2732",
   "metadata": {},
   "outputs": [],
   "source": [
    "pop_changes=pd.DataFrame(data=pop_rate_change.T,columns=labels,index=years[0:-1])"
   ]
  },
  {
   "cell_type": "code",
   "execution_count": 40,
   "id": "2687656a-0269-486d-97d0-e33ea3cf8b5c",
   "metadata": {},
   "outputs": [
    {
     "data": {
      "text/html": [
       "<div>\n",
       "<style scoped>\n",
       "    .dataframe tbody tr th:only-of-type {\n",
       "        vertical-align: middle;\n",
       "    }\n",
       "\n",
       "    .dataframe tbody tr th {\n",
       "        vertical-align: top;\n",
       "    }\n",
       "\n",
       "    .dataframe thead th {\n",
       "        text-align: right;\n",
       "    }\n",
       "</style>\n",
       "<table border=\"1\" class=\"dataframe\">\n",
       "  <thead>\n",
       "    <tr style=\"text-align: right;\">\n",
       "      <th></th>\n",
       "      <th>China</th>\n",
       "      <th>India</th>\n",
       "      <th>United States</th>\n",
       "      <th>Indonesia</th>\n",
       "      <th>Pakistan</th>\n",
       "      <th>Nigeria</th>\n",
       "      <th>Brazil</th>\n",
       "      <th>Bangladesh</th>\n",
       "      <th>Russia</th>\n",
       "      <th>Mexico</th>\n",
       "      <th>Japan</th>\n",
       "    </tr>\n",
       "  </thead>\n",
       "  <tbody>\n",
       "    <tr>\n",
       "      <th>1970</th>\n",
       "      <td>15983801.6</td>\n",
       "      <td>13932708.4</td>\n",
       "      <td>2281167.8</td>\n",
       "      <td>3294870.2</td>\n",
       "      <td>2133318.5</td>\n",
       "      <td>1738217.5</td>\n",
       "      <td>2591850.8</td>\n",
       "      <td>1638790.5</td>\n",
       "      <td>816441.0</td>\n",
       "      <td>1741588.0</td>\n",
       "      <td>1220735.7</td>\n",
       "    </tr>\n",
       "    <tr>\n",
       "      <th>1980</th>\n",
       "      <td>17133178.6</td>\n",
       "      <td>17362378.0</td>\n",
       "      <td>2494371.4</td>\n",
       "      <td>3398277.8</td>\n",
       "      <td>3479001.2</td>\n",
       "      <td>2226281.8</td>\n",
       "      <td>2841806.3</td>\n",
       "      <td>2321788.6</td>\n",
       "      <td>974828.4</td>\n",
       "      <td>1401524.2</td>\n",
       "      <td>606212.5</td>\n",
       "    </tr>\n",
       "    <tr>\n",
       "      <th>1990</th>\n",
       "      <td>11039481.7</td>\n",
       "      <td>18918151.0</td>\n",
       "      <td>3431482.2</td>\n",
       "      <td>3191254.7</td>\n",
       "      <td>3895585.5</td>\n",
       "      <td>2763772.7</td>\n",
       "      <td>2516727.4</td>\n",
       "      <td>2204567.6</td>\n",
       "      <td>-116086.5</td>\n",
       "      <td>1615301.4</td>\n",
       "      <td>311754.0</td>\n",
       "    </tr>\n",
       "    <tr>\n",
       "      <th>2000</th>\n",
       "      <td>8409229.9</td>\n",
       "      <td>18097994.5</td>\n",
       "      <td>2878429.1</td>\n",
       "      <td>2994375.2</td>\n",
       "      <td>4008457.4</td>\n",
       "      <td>3810086.9</td>\n",
       "      <td>2047977.2</td>\n",
       "      <td>1919781.2</td>\n",
       "      <td>-360224.0</td>\n",
       "      <td>1465895.9</td>\n",
       "      <td>130157.0</td>\n",
       "    </tr>\n",
       "    <tr>\n",
       "      <th>2010</th>\n",
       "      <td>9104816.0</td>\n",
       "      <td>16450577.0</td>\n",
       "      <td>2684986.2</td>\n",
       "      <td>3015159.4</td>\n",
       "      <td>3302960.0</td>\n",
       "      <td>4608586.4</td>\n",
       "      <td>1766942.6</td>\n",
       "      <td>1887772.2</td>\n",
       "      <td>285158.0</td>\n",
       "      <td>1523499.2</td>\n",
       "      <td>-170899.6</td>\n",
       "    </tr>\n",
       "    <tr>\n",
       "      <th>2015</th>\n",
       "      <td>6242866.6</td>\n",
       "      <td>14704124.4</td>\n",
       "      <td>2266845.4</td>\n",
       "      <td>2553200.0</td>\n",
       "      <td>3245488.6</td>\n",
       "      <td>4866324.0</td>\n",
       "      <td>1601619.8</td>\n",
       "      <td>1918190.2</td>\n",
       "      <td>189788.0</td>\n",
       "      <td>1169681.0</td>\n",
       "      <td>-401234.4</td>\n",
       "    </tr>\n",
       "    <tr>\n",
       "      <th>2020</th>\n",
       "      <td>478778.0</td>\n",
       "      <td>10393023.0</td>\n",
       "      <td>1173927.0</td>\n",
       "      <td>1821684.5</td>\n",
       "      <td>4314060.5</td>\n",
       "      <td>5106903.5</td>\n",
       "      <td>1058597.0</td>\n",
       "      <td>1882710.5</td>\n",
       "      <td>-452007.5</td>\n",
       "      <td>752911.5</td>\n",
       "      <td>-646534.5</td>\n",
       "    </tr>\n",
       "  </tbody>\n",
       "</table>\n",
       "</div>"
      ],
      "text/plain": [
       "           China       India  United States  Indonesia   Pakistan    Nigeria  \\\n",
       "1970  15983801.6  13932708.4      2281167.8  3294870.2  2133318.5  1738217.5   \n",
       "1980  17133178.6  17362378.0      2494371.4  3398277.8  3479001.2  2226281.8   \n",
       "1990  11039481.7  18918151.0      3431482.2  3191254.7  3895585.5  2763772.7   \n",
       "2000   8409229.9  18097994.5      2878429.1  2994375.2  4008457.4  3810086.9   \n",
       "2010   9104816.0  16450577.0      2684986.2  3015159.4  3302960.0  4608586.4   \n",
       "2015   6242866.6  14704124.4      2266845.4  2553200.0  3245488.6  4866324.0   \n",
       "2020    478778.0  10393023.0      1173927.0  1821684.5  4314060.5  5106903.5   \n",
       "\n",
       "         Brazil  Bangladesh    Russia     Mexico      Japan  \n",
       "1970  2591850.8   1638790.5  816441.0  1741588.0  1220735.7  \n",
       "1980  2841806.3   2321788.6  974828.4  1401524.2   606212.5  \n",
       "1990  2516727.4   2204567.6 -116086.5  1615301.4   311754.0  \n",
       "2000  2047977.2   1919781.2 -360224.0  1465895.9   130157.0  \n",
       "2010  1766942.6   1887772.2  285158.0  1523499.2  -170899.6  \n",
       "2015  1601619.8   1918190.2  189788.0  1169681.0  -401234.4  \n",
       "2020  1058597.0   1882710.5 -452007.5   752911.5  -646534.5  "
      ]
     },
     "execution_count": 40,
     "metadata": {},
     "output_type": "execute_result"
    }
   ],
   "source": [
    "pop_changes"
   ]
  },
  {
   "cell_type": "code",
   "execution_count": 41,
   "id": "9dab4b7e-928c-4885-9261-2ee1792d8ea7",
   "metadata": {},
   "outputs": [
    {
     "data": {
      "text/plain": [
       "<matplotlib.legend.Legend at 0x7efe19979640>"
      ]
     },
     "execution_count": 41,
     "metadata": {},
     "output_type": "execute_result"
    },
    {
     "data": {
      "image/png": "[encoded data removed]",
      "text/plain": [
       "<Figure size 432x288 with 1 Axes>"
      ]
     },
     "metadata": {
      "needs_background": "light"
     },
     "output_type": "display_data"
    }
   ],
   "source": [
    "pop_changes.plot(kind='line',title='Rate of Population Change for Top Ten Countries').legend(bbox_to_anchor=(1.4,1.))"
   ]
  },
  {
   "cell_type": "code",
   "execution_count": null,
   "id": "b28e7f84-aa1a-402d-8e37-7dbbbfed4ced",
   "metadata": {},
   "outputs": [],
   "source": []
  }
 ],
 "metadata": {
  "kernelspec": {
   "display_name": "Python 3 (ipykernel)",
   "language": "python",
   "name": "python3"
  },
  "language_info": {
   "codemirror_mode": {
    "name": "ipython",
    "version": 3
   },
   "file_extension": ".py",
   "mimetype": "text/x-python",
   "name": "python",
   "nbconvert_exporter": "python",
   "pygments_lexer": "ipython3",
   "version": "3.9.12"
  }
 },
 "nbformat": 4,
 "nbformat_minor": 5
}
