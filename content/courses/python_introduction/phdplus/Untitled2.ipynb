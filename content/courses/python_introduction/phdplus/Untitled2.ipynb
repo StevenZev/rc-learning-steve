{
 "cells": [
  {
   "cell_type": "code",
   "execution_count": 117,
   "id": "ec6b8fda-1bb0-4713-b38a-29588e084f59",
   "metadata": {},
   "outputs": [],
   "source": [
    "import numpy as np\n",
    "import matplotlib.pyplot as plt\n",
    "import pandas as pd"
   ]
  },
  {
   "cell_type": "code",
   "execution_count": 118,
   "id": "b9b1259c-aa5b-4434-a904-dcb6b02e9966",
   "metadata": {},
   "outputs": [],
   "source": [
    "world_pop_data=pd.read_csv(\"world_population.csv\")"
   ]
  },
  {
   "cell_type": "code",
   "execution_count": 119,
   "id": "35762487-15c9-432a-adc3-3e4f8553842f",
   "metadata": {},
   "outputs": [],
   "source": [
    "pop_years=world_pop_data.iloc[:,5:13]"
   ]
  },
  {
   "cell_type": "code",
   "execution_count": 120,
   "id": "d2cf29ee-9077-40b0-9b45-f536a90812fa",
   "metadata": {},
   "outputs": [],
   "source": [
    "pop_years=pop_years.iloc[:,::-1]"
   ]
  },
  {
   "cell_type": "raw",
   "id": "f1c778de-8396-45f9-ad36-038e1b0b16d2",
   "metadata": {},
   "source": []
  },
  {
   "cell_type": "code",
   "execution_count": 121,
   "id": "d0d9c7c5-ad20-4588-bbeb-ffd6fabd6902",
   "metadata": {},
   "outputs": [],
   "source": [
    "country_data=world_pop_data.iloc[:,0:5]"
   ]
  },
  {
   "cell_type": "code",
   "execution_count": 122,
   "id": "fa5cd072-6d63-4658-8f7b-fbba123cca20",
   "metadata": {},
   "outputs": [],
   "source": [
    "pop_data=pd.concat([country_data,pop_years],axis=1)"
   ]
  },
  {
   "cell_type": "code",
   "execution_count": 123,
   "id": "4746aebf-cb8d-404a-9a09-781b996f2cab",
   "metadata": {},
   "outputs": [],
   "source": [
    "pop_data.sort_values(by='Rank',inplace=True)"
   ]
  },
  {
   "cell_type": "code",
   "execution_count": 124,
   "id": "70ef1dbc-d7e5-452e-9bb6-8466846aa280",
   "metadata": {},
   "outputs": [
    {
     "data": {
      "text/plain": [
       "<AxesSubplot:ylabel='Frequency'>"
      ]
     },
     "execution_count": 124,
     "metadata": {},
     "output_type": "execute_result"
    },
    {
     "data": {
      "image/png": "[encoded data removed]",
      "text/plain": [
       "<Figure size 432x288 with 1 Axes>"
      ]
     },
     "metadata": {
      "needs_background": "light"
     },
     "output_type": "display_data"
    }
   ],
   "source": [
    "pop_data['2022 Population'].plot(kind='hist')"
   ]
  },
  {
   "cell_type": "code",
   "execution_count": 125,
   "id": "0bbf0b8a-9c2d-43df-bff2-b8c761137078",
   "metadata": {},
   "outputs": [],
   "source": [
    "year_list=pop_data.columns[5:].tolist()"
   ]
  },
  {
   "cell_type": "code",
   "execution_count": 126,
   "id": "32d6c386-f70f-4fe9-a6e9-a317c8d6ea1b",
   "metadata": {},
   "outputs": [],
   "source": [
    "years=[]\n",
    "for y in year_list:\n",
    "    years.append(int(y.split()[0]))"
   ]
  },
  {
   "cell_type": "code",
   "execution_count": 127,
   "id": "fc2624a1-7b38-43df-8e85-a9670ba406fc",
   "metadata": {},
   "outputs": [],
   "source": [
    "top_ten=pop_data.iloc[0:10,:]"
   ]
  },
  {
   "cell_type": "code",
   "execution_count": 128,
   "id": "b7728210-5111-4458-9b4f-72420de854ec",
   "metadata": {},
   "outputs": [
    {
     "name": "stderr",
     "output_type": "stream",
     "text": [
      "/tmp/ipykernel_1091455/2847862424.py:1: SettingWithCopyWarning: \n",
      "A value is trying to be set on a copy of a slice from a DataFrame\n",
      "\n",
      "See the caveats in the documentation: https://pandas.pydata.org/pandas-docs/stable/user_guide/indexing.html#returning-a-view-versus-a-copy\n",
      "  top_ten.drop(columns=['Rank','CCA3','Capital','Continent'],inplace=True)\n"
     ]
    }
   ],
   "source": [
    "top_ten.drop(columns=['Rank','CCA3','Capital','Continent'],inplace=True)"
   ]
  },
  {
   "cell_type": "code",
   "execution_count": 129,
   "id": "cd80e56c-92b4-408d-b052-216b31d44c16",
   "metadata": {},
   "outputs": [
    {
     "data": {
      "text/html": [
       "<div>\n",
       "<style scoped>\n",
       "    .dataframe tbody tr th:only-of-type {\n",
       "        vertical-align: middle;\n",
       "    }\n",
       "\n",
       "    .dataframe tbody tr th {\n",
       "        vertical-align: top;\n",
       "    }\n",
       "\n",
       "    .dataframe thead th {\n",
       "        text-align: right;\n",
       "    }\n",
       "</style>\n",
       "<table border=\"1\" class=\"dataframe\">\n",
       "  <thead>\n",
       "    <tr style=\"text-align: right;\">\n",
       "      <th></th>\n",
       "      <th>Country</th>\n",
       "      <th>1970 Population</th>\n",
       "      <th>1980 Population</th>\n",
       "      <th>1990 Population</th>\n",
       "      <th>2000 Population</th>\n",
       "      <th>2010 Population</th>\n",
       "      <th>2015 Population</th>\n",
       "      <th>2020 Population</th>\n",
       "      <th>2022 Population</th>\n",
       "    </tr>\n",
       "  </thead>\n",
       "  <tbody>\n",
       "    <tr>\n",
       "      <th>41</th>\n",
       "      <td>China</td>\n",
       "      <td>822534450</td>\n",
       "      <td>982372466</td>\n",
       "      <td>1153704252</td>\n",
       "      <td>1264099069</td>\n",
       "      <td>1348191368</td>\n",
       "      <td>1393715448</td>\n",
       "      <td>1424929781</td>\n",
       "      <td>1425887337</td>\n",
       "    </tr>\n",
       "    <tr>\n",
       "      <th>92</th>\n",
       "      <td>India</td>\n",
       "      <td>557501301</td>\n",
       "      <td>696828385</td>\n",
       "      <td>870452165</td>\n",
       "      <td>1059633675</td>\n",
       "      <td>1240613620</td>\n",
       "      <td>1322866505</td>\n",
       "      <td>1396387127</td>\n",
       "      <td>1417173173</td>\n",
       "    </tr>\n",
       "    <tr>\n",
       "      <th>221</th>\n",
       "      <td>United States</td>\n",
       "      <td>200328340</td>\n",
       "      <td>223140018</td>\n",
       "      <td>248083732</td>\n",
       "      <td>282398554</td>\n",
       "      <td>311182845</td>\n",
       "      <td>324607776</td>\n",
       "      <td>335942003</td>\n",
       "      <td>338289857</td>\n",
       "    </tr>\n",
       "    <tr>\n",
       "      <th>93</th>\n",
       "      <td>Indonesia</td>\n",
       "      <td>115228394</td>\n",
       "      <td>148177096</td>\n",
       "      <td>182159874</td>\n",
       "      <td>214072421</td>\n",
       "      <td>244016173</td>\n",
       "      <td>259091970</td>\n",
       "      <td>271857970</td>\n",
       "      <td>275501339</td>\n",
       "    </tr>\n",
       "    <tr>\n",
       "      <th>156</th>\n",
       "      <td>Pakistan</td>\n",
       "      <td>59290872</td>\n",
       "      <td>80624057</td>\n",
       "      <td>115414069</td>\n",
       "      <td>154369924</td>\n",
       "      <td>194454498</td>\n",
       "      <td>210969298</td>\n",
       "      <td>227196741</td>\n",
       "      <td>235824862</td>\n",
       "    </tr>\n",
       "    <tr>\n",
       "      <th>149</th>\n",
       "      <td>Nigeria</td>\n",
       "      <td>55569264</td>\n",
       "      <td>72951439</td>\n",
       "      <td>95214257</td>\n",
       "      <td>122851984</td>\n",
       "      <td>160952853</td>\n",
       "      <td>183995785</td>\n",
       "      <td>208327405</td>\n",
       "      <td>218541212</td>\n",
       "    </tr>\n",
       "    <tr>\n",
       "      <th>27</th>\n",
       "      <td>Brazil</td>\n",
       "      <td>96369875</td>\n",
       "      <td>122288383</td>\n",
       "      <td>150706446</td>\n",
       "      <td>175873720</td>\n",
       "      <td>196353492</td>\n",
       "      <td>205188205</td>\n",
       "      <td>213196304</td>\n",
       "      <td>215313498</td>\n",
       "    </tr>\n",
       "    <tr>\n",
       "      <th>16</th>\n",
       "      <td>Bangladesh</td>\n",
       "      <td>67541860</td>\n",
       "      <td>83929765</td>\n",
       "      <td>107147651</td>\n",
       "      <td>129193327</td>\n",
       "      <td>148391139</td>\n",
       "      <td>157830000</td>\n",
       "      <td>167420951</td>\n",
       "      <td>171186372</td>\n",
       "    </tr>\n",
       "    <tr>\n",
       "      <th>171</th>\n",
       "      <td>Russia</td>\n",
       "      <td>130093010</td>\n",
       "      <td>138257420</td>\n",
       "      <td>148005704</td>\n",
       "      <td>146844839</td>\n",
       "      <td>143242599</td>\n",
       "      <td>144668389</td>\n",
       "      <td>145617329</td>\n",
       "      <td>144713314</td>\n",
       "    </tr>\n",
       "    <tr>\n",
       "      <th>131</th>\n",
       "      <td>Mexico</td>\n",
       "      <td>50289306</td>\n",
       "      <td>67705186</td>\n",
       "      <td>81720428</td>\n",
       "      <td>97873442</td>\n",
       "      <td>112532401</td>\n",
       "      <td>120149897</td>\n",
       "      <td>125998302</td>\n",
       "      <td>127504125</td>\n",
       "    </tr>\n",
       "  </tbody>\n",
       "</table>\n",
       "</div>"
      ],
      "text/plain": [
       "           Country  1970 Population  1980 Population  1990 Population  \\\n",
       "41           China        822534450        982372466       1153704252   \n",
       "92           India        557501301        696828385        870452165   \n",
       "221  United States        200328340        223140018        248083732   \n",
       "93       Indonesia        115228394        148177096        182159874   \n",
       "156       Pakistan         59290872         80624057        115414069   \n",
       "149        Nigeria         55569264         72951439         95214257   \n",
       "27          Brazil         96369875        122288383        150706446   \n",
       "16      Bangladesh         67541860         83929765        107147651   \n",
       "171         Russia        130093010        138257420        148005704   \n",
       "131         Mexico         50289306         67705186         81720428   \n",
       "\n",
       "     2000 Population  2010 Population  2015 Population  2020 Population  \\\n",
       "41        1264099069       1348191368       1393715448       1424929781   \n",
       "92        1059633675       1240613620       1322866505       1396387127   \n",
       "221        282398554        311182845        324607776        335942003   \n",
       "93         214072421        244016173        259091970        271857970   \n",
       "156        154369924        194454498        210969298        227196741   \n",
       "149        122851984        160952853        183995785        208327405   \n",
       "27         175873720        196353492        205188205        213196304   \n",
       "16         129193327        148391139        157830000        167420951   \n",
       "171        146844839        143242599        144668389        145617329   \n",
       "131         97873442        112532401        120149897        125998302   \n",
       "\n",
       "     2022 Population  \n",
       "41        1425887337  \n",
       "92        1417173173  \n",
       "221        338289857  \n",
       "93         275501339  \n",
       "156        235824862  \n",
       "149        218541212  \n",
       "27         215313498  \n",
       "16         171186372  \n",
       "171        144713314  \n",
       "131        127504125  "
      ]
     },
     "execution_count": 129,
     "metadata": {},
     "output_type": "execute_result"
    }
   ],
   "source": [
    "top_ten"
   ]
  },
  {
   "cell_type": "code",
   "execution_count": 130,
   "id": "8da0fc73-ce84-45a9-8c95-aa3f4da9fa9e",
   "metadata": {},
   "outputs": [],
   "source": [
    "top_ten.set_index("
   ]
  },
  {
   "cell_type": "code",
   "execution_count": 131,
   "id": "50a629a4-7a15-4195-951c-d95489b34810",
   "metadata": {},
   "outputs": [
    {
     "data": {
      "text/html": [
       "<div>\n",
       "<style scoped>\n",
       "    .dataframe tbody tr th:only-of-type {\n",
       "        vertical-align: middle;\n",
       "    }\n",
       "\n",
       "    .dataframe tbody tr th {\n",
       "        vertical-align: top;\n",
       "    }\n",
       "\n",
       "    .dataframe thead th {\n",
       "        text-align: right;\n",
       "    }\n",
       "</style>\n",
       "<table border=\"1\" class=\"dataframe\">\n",
       "  <thead>\n",
       "    <tr style=\"text-align: right;\">\n",
       "      <th></th>\n",
       "      <th>41</th>\n",
       "      <th>92</th>\n",
       "      <th>221</th>\n",
       "      <th>93</th>\n",
       "      <th>156</th>\n",
       "      <th>149</th>\n",
       "      <th>27</th>\n",
       "      <th>16</th>\n",
       "      <th>171</th>\n",
       "      <th>131</th>\n",
       "    </tr>\n",
       "  </thead>\n",
       "  <tbody>\n",
       "    <tr>\n",
       "      <th>Country</th>\n",
       "      <td>China</td>\n",
       "      <td>India</td>\n",
       "      <td>United States</td>\n",
       "      <td>Indonesia</td>\n",
       "      <td>Pakistan</td>\n",
       "      <td>Nigeria</td>\n",
       "      <td>Brazil</td>\n",
       "      <td>Bangladesh</td>\n",
       "      <td>Russia</td>\n",
       "      <td>Mexico</td>\n",
       "    </tr>\n",
       "    <tr>\n",
       "      <th>1970 Population</th>\n",
       "      <td>822534450</td>\n",
       "      <td>557501301</td>\n",
       "      <td>200328340</td>\n",
       "      <td>115228394</td>\n",
       "      <td>59290872</td>\n",
       "      <td>55569264</td>\n",
       "      <td>96369875</td>\n",
       "      <td>67541860</td>\n",
       "      <td>130093010</td>\n",
       "      <td>50289306</td>\n",
       "    </tr>\n",
       "    <tr>\n",
       "      <th>1980 Population</th>\n",
       "      <td>982372466</td>\n",
       "      <td>696828385</td>\n",
       "      <td>223140018</td>\n",
       "      <td>148177096</td>\n",
       "      <td>80624057</td>\n",
       "      <td>72951439</td>\n",
       "      <td>122288383</td>\n",
       "      <td>83929765</td>\n",
       "      <td>138257420</td>\n",
       "      <td>67705186</td>\n",
       "    </tr>\n",
       "    <tr>\n",
       "      <th>1990 Population</th>\n",
       "      <td>1153704252</td>\n",
       "      <td>870452165</td>\n",
       "      <td>248083732</td>\n",
       "      <td>182159874</td>\n",
       "      <td>115414069</td>\n",
       "      <td>95214257</td>\n",
       "      <td>150706446</td>\n",
       "      <td>107147651</td>\n",
       "      <td>148005704</td>\n",
       "      <td>81720428</td>\n",
       "    </tr>\n",
       "    <tr>\n",
       "      <th>2000 Population</th>\n",
       "      <td>1264099069</td>\n",
       "      <td>1059633675</td>\n",
       "      <td>282398554</td>\n",
       "      <td>214072421</td>\n",
       "      <td>154369924</td>\n",
       "      <td>122851984</td>\n",
       "      <td>175873720</td>\n",
       "      <td>129193327</td>\n",
       "      <td>146844839</td>\n",
       "      <td>97873442</td>\n",
       "    </tr>\n",
       "    <tr>\n",
       "      <th>2010 Population</th>\n",
       "      <td>1348191368</td>\n",
       "      <td>1240613620</td>\n",
       "      <td>311182845</td>\n",
       "      <td>244016173</td>\n",
       "      <td>194454498</td>\n",
       "      <td>160952853</td>\n",
       "      <td>196353492</td>\n",
       "      <td>148391139</td>\n",
       "      <td>143242599</td>\n",
       "      <td>112532401</td>\n",
       "    </tr>\n",
       "    <tr>\n",
       "      <th>2015 Population</th>\n",
       "      <td>1393715448</td>\n",
       "      <td>1322866505</td>\n",
       "      <td>324607776</td>\n",
       "      <td>259091970</td>\n",
       "      <td>210969298</td>\n",
       "      <td>183995785</td>\n",
       "      <td>205188205</td>\n",
       "      <td>157830000</td>\n",
       "      <td>144668389</td>\n",
       "      <td>120149897</td>\n",
       "    </tr>\n",
       "    <tr>\n",
       "      <th>2020 Population</th>\n",
       "      <td>1424929781</td>\n",
       "      <td>1396387127</td>\n",
       "      <td>335942003</td>\n",
       "      <td>271857970</td>\n",
       "      <td>227196741</td>\n",
       "      <td>208327405</td>\n",
       "      <td>213196304</td>\n",
       "      <td>167420951</td>\n",
       "      <td>145617329</td>\n",
       "      <td>125998302</td>\n",
       "    </tr>\n",
       "    <tr>\n",
       "      <th>2022 Population</th>\n",
       "      <td>1425887337</td>\n",
       "      <td>1417173173</td>\n",
       "      <td>338289857</td>\n",
       "      <td>275501339</td>\n",
       "      <td>235824862</td>\n",
       "      <td>218541212</td>\n",
       "      <td>215313498</td>\n",
       "      <td>171186372</td>\n",
       "      <td>144713314</td>\n",
       "      <td>127504125</td>\n",
       "    </tr>\n",
       "  </tbody>\n",
       "</table>\n",
       "</div>"
      ],
      "text/plain": [
       "                        41          92             221        93         156  \\\n",
       "Country               China       India  United States  Indonesia   Pakistan   \n",
       "1970 Population   822534450   557501301      200328340  115228394   59290872   \n",
       "1980 Population   982372466   696828385      223140018  148177096   80624057   \n",
       "1990 Population  1153704252   870452165      248083732  182159874  115414069   \n",
       "2000 Population  1264099069  1059633675      282398554  214072421  154369924   \n",
       "2010 Population  1348191368  1240613620      311182845  244016173  194454498   \n",
       "2015 Population  1393715448  1322866505      324607776  259091970  210969298   \n",
       "2020 Population  1424929781  1396387127      335942003  271857970  227196741   \n",
       "2022 Population  1425887337  1417173173      338289857  275501339  235824862   \n",
       "\n",
       "                       149        27          16         171        131  \n",
       "Country            Nigeria     Brazil  Bangladesh     Russia     Mexico  \n",
       "1970 Population   55569264   96369875    67541860  130093010   50289306  \n",
       "1980 Population   72951439  122288383    83929765  138257420   67705186  \n",
       "1990 Population   95214257  150706446   107147651  148005704   81720428  \n",
       "2000 Population  122851984  175873720   129193327  146844839   97873442  \n",
       "2010 Population  160952853  196353492   148391139  143242599  112532401  \n",
       "2015 Population  183995785  205188205   157830000  144668389  120149897  \n",
       "2020 Population  208327405  213196304   167420951  145617329  125998302  \n",
       "2022 Population  218541212  215313498   171186372  144713314  127504125  "
      ]
     },
     "execution_count": 131,
     "metadata": {},
     "output_type": "execute_result"
    }
   ],
   "source": [
    "top_ten_inv"
   ]
  },
  {
   "cell_type": "code",
   "execution_count": 132,
   "id": "441d338e-2682-45f3-a085-08e2dc62146f",
   "metadata": {},
   "outputs": [
    {
     "data": {
      "text/plain": [
       "Int64Index([41, 92, 221, 93, 156, 149, 27, 16, 171, 131], dtype='int64')"
      ]
     },
     "execution_count": 132,
     "metadata": {},
     "output_type": "execute_result"
    }
   ],
   "source": [
    "top_ten_inv.columns"
   ]
  },
  {
   "cell_type": "code",
   "execution_count": null,
   "id": "31aa6e52-b20f-4325-821e-a161beb70e26",
   "metadata": {},
   "outputs": [],
   "source": []
  }
 ],
 "metadata": {
  "kernelspec": {
   "display_name": "Python 3 (ipykernel)",
   "language": "python",
   "name": "python3"
  },
  "language_info": {
   "codemirror_mode": {
    "name": "ipython",
    "version": 3
   },
   "file_extension": ".py",
   "mimetype": "text/x-python",
   "name": "python",
   "nbconvert_exporter": "python",
   "pygments_lexer": "ipython3",
   "version": "3.9.12"
  }
 },
 "nbformat": 4,
 "nbformat_minor": 5
}
