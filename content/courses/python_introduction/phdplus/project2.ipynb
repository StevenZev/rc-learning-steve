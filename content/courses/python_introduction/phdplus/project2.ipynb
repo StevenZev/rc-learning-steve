{
 "cells": [
  {
   "cell_type": "code",
   "execution_count": 13,
   "id": "1ea67292-8783-4f89-92da-da03cec67a06",
   "metadata": {},
   "outputs": [],
   "source": [
    "with open(\"world_population.csv\") as f:\n",
    "    headers=f.readline().strip('\\r\\n').split(',')\n",
    "    data=f.readlines()"
   ]
  },
  {
   "cell_type": "code",
   "execution_count": 23,
   "id": "ed6ce4f1-4e5c-4afa-9d0e-f49d7380103e",
   "metadata": {},
   "outputs": [],
   "source": [
    "years=[]\n",
    "for s in headers[5:13]:\n",
    "    vals=s.split()\n",
    "    years=vals.append(s[0])"
   ]
  },
  {
   "cell_type": "code",
   "execution_count": 3,
   "id": "3b09b4e0-185b-44c8-9a85-ae183ac50910",
   "metadata": {},
   "outputs": [],
   "source": [
    "\n",
    "countries=[]\n",
    "population=[]"
   ]
  },
  {
   "cell_type": "code",
   "execution_count": 4,
   "id": "0edd82e9-d894-4a39-9e7d-4412293ca7d9",
   "metadata": {},
   "outputs": [],
   "source": [
    "for line in data:\n",
    "    data_list=line.split(\",\")\n",
    "    countries.append(data_list[2])\n",
    "    population.append(data_list[5])"
   ]
  },
  {
   "cell_type": "code",
   "execution_count": 5,
   "id": "76db6e69-0837-4e19-bdf0-2d9970cc21dd",
   "metadata": {},
   "outputs": [],
   "source": [
    "world_pop={}\n",
    "for i,country in enumerate(countries):\n",
    "    if country not in world_pop:\n",
    "        world_pop[country]=int(population[i])"
   ]
  },
  {
   "cell_type": "code",
   "execution_count": 19,
   "id": "0400fe2b-4ba0-48ba-b134-dc3341541d40",
   "metadata": {},
   "outputs": [
    {
     "name": "stdout",
     "output_type": "stream",
     "text": [
      "The population of  Norway is  5434319\n"
     ]
    }
   ],
   "source": [
    "c=\"Norway\"\n",
    "print(\"The population of \",c,\"is \",world_pop[c])"
   ]
  },
  {
   "cell_type": "code",
   "execution_count": 7,
   "id": "64d74d26-db4b-472a-92a6-07c15ed58d60",
   "metadata": {},
   "outputs": [],
   "source": [
    "high_pop=[]\n",
    "for country in world_pop:\n",
    "    if world_pop[country]>100000000:\n",
    "        high_pop.append(country)"
   ]
  },
  {
   "cell_type": "code",
   "execution_count": 8,
   "id": "6ce90e99-ecad-4eb1-a427-47870c9fa5cc",
   "metadata": {},
   "outputs": [
    {
     "name": "stdout",
     "output_type": "stream",
     "text": [
      "   Country       Population   \n"
     ]
    }
   ],
   "source": [
    "print(f'{\"Country\":^13} {\"Population\":^16}')"
   ]
  },
  {
   "cell_type": "code",
   "execution_count": 9,
   "id": "1726080f-3aaf-4354-b1fd-0515d0d240d4",
   "metadata": {},
   "outputs": [
    {
     "name": "stdout",
     "output_type": "stream",
     "text": [
      "Bangladesh        171186372\n",
      "Brazil            215313498\n",
      "China            1425887337\n",
      "Egypt             110990103\n",
      "Ethiopia          123379924\n",
      "India            1417173173\n",
      "Indonesia         275501339\n",
      "Japan             123951692\n",
      "Mexico            127504125\n",
      "Nigeria           218541212\n",
      "Pakistan          235824862\n",
      "Philippines       115559009\n",
      "Russia            144713314\n",
      "United States     338289857\n"
     ]
    }
   ],
   "source": [
    "for i in range(len(high_pop)):\n",
    "    print(f\"{high_pop[i]:<13} {world_pop[high_pop[i]]:>13}\")"
   ]
  },
  {
   "cell_type": "code",
   "execution_count": null,
   "id": "222301f8-a175-45c0-aed2-7f93e2f76296",
   "metadata": {},
   "outputs": [],
   "source": []
  }
 ],
 "metadata": {
  "kernelspec": {
   "display_name": "Python 3 (ipykernel)",
   "language": "python",
   "name": "python3"
  },
  "language_info": {
   "codemirror_mode": {
    "name": "ipython",
    "version": 3
   },
   "file_extension": ".py",
   "mimetype": "text/x-python",
   "name": "python",
   "nbconvert_exporter": "python",
   "pygments_lexer": "ipython3",
   "version": "3.9.12"
  }
 },
 "nbformat": 4,
 "nbformat_minor": 5
}
